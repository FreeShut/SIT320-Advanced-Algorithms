{
 "cells": [
  {
   "cell_type": "markdown",
   "id": "f0b874c6",
   "metadata": {},
   "source": [
    "# Simple Algorithm to play a game of Tic-Tac-Toe"
   ]
  },
  {
   "cell_type": "code",
   "execution_count": 35,
   "id": "4aac0aad",
   "metadata": {
    "scrolled": true
   },
   "outputs": [
    {
     "data": {
      "text/html": [
       "<style>.container { width:85% !important; }</style>"
      ],
      "text/plain": [
       "<IPython.core.display.HTML object>"
      ]
     },
     "metadata": {},
     "output_type": "display_data"
    }
   ],
   "source": [
    "from IPython.core.display import display, HTML\n",
    "display(HTML(\"<style>.container { width:85% !important; }</style>\"))"
   ]
  },
  {
   "cell_type": "markdown",
   "id": "34c654de",
   "metadata": {},
   "source": [
    "The code is downloaded from here: https://github.com/doctorsmonsters/minimax_tic_tac_toe/blob/main/Minimax%20TicTacToe.ipynb\n",
    "I do not take any responsibility for its inner working. \n",
    "\n",
    "Your task is to understand it, evaluate it, and make it working. \n",
    "\n",
    "There can be problems in the code. Try fixing them, as part of setting-up the test cases activity\n",
    "        "
   ]
  },
  {
   "cell_type": "markdown",
   "id": "c17dead8",
   "metadata": {},
   "source": [
    "## Board Definition"
   ]
  },
  {
   "cell_type": "code",
   "execution_count": 36,
   "id": "3cf2893b",
   "metadata": {},
   "outputs": [],
   "source": [
    "#define the board\n",
    "board={1:' ', 2:' ', 3:' ',\n",
    "       4:' ', 5:' ', 6:' ',\n",
    "       7:' ', 8:' ', 9:' '}"
   ]
  },
  {
   "cell_type": "code",
   "execution_count": 37,
   "id": "984bb13e",
   "metadata": {},
   "outputs": [],
   "source": [
    "#function to print the board\n",
    "def printBoard(board):\n",
    "    print(board[1]+'|'+board[2]+'|'+board[3])\n",
    "    print('-+-+-')\n",
    "    print(board[4] + '|' + board[5] + '|' + board[6])\n",
    "    print('-+-+-')\n",
    "    print(board[7] + '|' + board[8] + '|' + board[9])\n",
    "    print('\\n')"
   ]
  },
  {
   "cell_type": "code",
   "execution_count": 38,
   "id": "465cf5d5",
   "metadata": {},
   "outputs": [
    {
     "name": "stdout",
     "output_type": "stream",
     "text": [
      " | | \n",
      "-+-+-\n",
      " | | \n",
      "-+-+-\n",
      " | | \n",
      "\n",
      "\n"
     ]
    }
   ],
   "source": [
    "printBoard(board)"
   ]
  },
  {
   "cell_type": "code",
   "execution_count": 39,
   "id": "8046fe40",
   "metadata": {},
   "outputs": [],
   "source": [
    "#function to check is a certain position in the board is empty.\n",
    "def spaceIsFree(position):\n",
    "    \n",
    "    if (board[position]==' '):\n",
    "        return True\n",
    "    else:\n",
    "        return False"
   ]
  },
  {
   "cell_type": "code",
   "execution_count": 40,
   "id": "7be5f340",
   "metadata": {},
   "outputs": [],
   "source": [
    "#spaceIsFree(1)\n",
    "#Illegal call outside a function"
   ]
  },
  {
   "cell_type": "code",
   "execution_count": 41,
   "id": "60f9b872",
   "metadata": {},
   "outputs": [],
   "source": [
    "#method to insert letter in space\n",
    "def insertLetter(letter, position):\n",
    "    \n",
    "    if (spaceIsFree(position)):\n",
    "        board[position]=letter\n",
    "        printBoard(board)\n",
    "        \n",
    "    #added in main function\n",
    "      #  if (chkDraw()):\n",
    "      #      print('Draw!')\n",
    "      #  elif (chkForWin(letter)):\n",
    "      #      if (letter=='X'):\n",
    "      #          print('Bot wins!')\n",
    "      #      else:\n",
    "      #          print('You win!')\n",
    "        return True\n",
    "    return False\n",
    "    \n",
    "    #else:\n",
    "     #   print('Position taken, please pick a different position.')\n",
    "      #  position=int(input('Enter new position: '))\n",
    "       # insertLetter(letter, position)\n",
    "        \n",
    "       # return"
   ]
  },
  {
   "cell_type": "code",
   "execution_count": 42,
   "id": "109afafc",
   "metadata": {},
   "outputs": [],
   "source": [
    "#function to check if board is draw\n",
    "def chkDraw():\n",
    "    \n",
    "    for key in board.keys():\n",
    "        if (board[key]==' '):\n",
    "            return False\n",
    "    return True\n",
    "\n",
    "#function to check if one user has won\n",
    "#Does not take any parameters to check the state of a certain player, \n",
    "#should make sure it works.\n",
    "def chkForWin(player):\n",
    "    \n",
    "    if (board[1]==board[2] and board[1]==board[3] and board[1] !=' '):\n",
    "        return True\n",
    "    elif (board[4]==board[5] and board[4]==board[6] and board[4] !=' '):\n",
    "        return True\n",
    "    elif (board[7]==board[8] and board[7]==board[9] and board[7] !=' '):\n",
    "        return True\n",
    "    elif (board[1]==board[5] and board[1]==board[9] and board[1] !=' '):\n",
    "        return True\n",
    "    elif (board[3]==board[5] and board[3]==board[7] and board[3] !=' '):\n",
    "        return True\n",
    "    elif (board[1]==board[4] and board[1]==board[7] and board[1] !=' '):\n",
    "        return True\n",
    "    elif (board[2]==board[5] and board[2]==board[8] and board[2] !=' '):\n",
    "        return True\n",
    "    elif (board[3]==board[6] and board[3]==board[9] and board[3] !=' '):\n",
    "        return True\n",
    "    else:\n",
    "        return False"
   ]
  },
  {
   "cell_type": "code",
   "execution_count": 43,
   "id": "f009c7af",
   "metadata": {},
   "outputs": [],
   "source": [
    "#function to check who won\n",
    "#def chkMarkForWin(mark):\n",
    "    \n",
    "#    if (board[1]==board[2] and board[1]==board[3] and board[1] ==mark):\n",
    " #       return True\n",
    "  #  elif (board[4]==board[5] and board[4]==board[6] and board[4] ==mark):\n",
    "   #     return True\n",
    "    #elif (board[7]==board[8] and board[7]==board[9] and board[7] ==mark):\n",
    "     #   return True\n",
    "    #elif (board[1]==board[5] and board[1]==board[9] and board[1] ==mark):\n",
    "    #    return True\n",
    "    #elif (board[3]==board[5] and board[3]==board[7] and board[3] ==mark):\n",
    "     #   return True\n",
    "    #elif (board[1]==board[4] and board[1]==board[7] and board[1] ==mark):\n",
    "     #   return True\n",
    "    #elif (board[2]==board[5] and board[2]==board[8] and board[2] ==mark):\n",
    "     #   return True\n",
    "    #elif (board[3]==board[6] and board[3]==board[9] and board[3] ==mark):\n",
    "     #   return True\n",
    "    #else:\n",
    "     #   return False"
   ]
  },
  {
   "cell_type": "code",
   "execution_count": 44,
   "id": "c26e879c",
   "metadata": {},
   "outputs": [],
   "source": [
    "player = 'O'\n",
    "bot ='X'"
   ]
  },
  {
   "cell_type": "code",
   "execution_count": 45,
   "id": "8707d5ea",
   "metadata": {},
   "outputs": [],
   "source": [
    "#function for player move\n",
    "def playerMove():\n",
    "    while True:\n",
    "        try:\n",
    "            position = int(input('Enter position for O (1-9): '))\n",
    "            if position < 1 or position > 9:\n",
    "                print(\"Please enter a position between 1 and 9.\")\n",
    "            elif spaceIsFree(position):\n",
    "                insertLetter('O', position)\n",
    "                return\n",
    "            else:\n",
    "                print(\"Position already taken!\")\n",
    "        except ValueError:\n",
    "            print(\"Invalid input, please enter a number.\")\n",
    "\n",
    "#function for bot move\n",
    "def compMove():\n",
    "    \n",
    "    bestScore=-1000 #lowest to start with, for comaparison to the score after a certain move\n",
    "    \n",
    "    bestMove=0\n",
    "    \n",
    "    for key in board.keys(): #for loop to find emplty slots, make a move, calculate the score and see if its higher then best score\n",
    "        if (board[key]==' '):\n",
    "            board[key]=bot\n",
    "            score = minimax(board, 0, False) #calculate the score\n",
    "            board[key] = ' ' #set board back to what it was\n",
    "            if (score > bestScore): #compare the score from a certain move to the best score.\n",
    "                bestScore = score\n",
    "                bestMove = key\n",
    "                \n",
    "    #at the end of the loop, we have the best move figured out.\n",
    "    insertLetter(bot, bestMove)\n",
    "    return"
   ]
  },
  {
   "cell_type": "code",
   "execution_count": 46,
   "id": "588e20e4",
   "metadata": {},
   "outputs": [],
   "source": [
    "def minimax(board, depth, isMaximizing):\n",
    "    \n",
    "    if (chkForWin(bot)):\n",
    "        return 1\n",
    "    elif (chkForWin(player)):\n",
    "        return -1\n",
    "    elif (chkDraw()):\n",
    "        return 0\n",
    "    \n",
    "    if isMaximizing:\n",
    "        \n",
    "        bestScore = -1000\n",
    "        \n",
    "        for key in board.keys():\n",
    "            if board[key]==' ':\n",
    "                board[key]=bot\n",
    "                #Depth parameter increment error, the value of depth is always 0.\n",
    "                #score = minimax(board, 0, False)\n",
    "                score = minimax(board, depth + 1, False)\n",
    "                board[key]= ' '\n",
    "                if (score>bestScore):\n",
    "                    bestScore = score\n",
    "        return bestScore\n",
    "    \n",
    "    else:\n",
    "        \n",
    "        bestScore = 1000\n",
    "        \n",
    "        for key in board.keys():\n",
    "            if board[key]==' ':\n",
    "                board[key]=player\n",
    "                #Depth parameter increment error, the value of depth is always 0.\n",
    "                #score = minimax(board, 0, True)\n",
    "                score = minimax(board, depth + 1, False)\n",
    "                board[key]= ' '\n",
    "                if (score<bestScore):\n",
    "                    bestScore = score\n",
    "        return bestScore\n",
    "    "
   ]
  },
  {
   "cell_type": "code",
   "execution_count": 47,
   "id": "c88a7035",
   "metadata": {},
   "outputs": [
    {
     "name": "stdout",
     "output_type": "stream",
     "text": [
      " | | \n",
      "-+-+-\n",
      " | | \n",
      "-+-+-\n",
      " | | \n",
      "\n",
      "\n",
      "X| | \n",
      "-+-+-\n",
      " | | \n",
      "-+-+-\n",
      " | | \n",
      "\n",
      "\n",
      "Enter position for O (1-9): 2\n",
      "X|O| \n",
      "-+-+-\n",
      " | | \n",
      "-+-+-\n",
      " | | \n",
      "\n",
      "\n",
      "X|O|X\n",
      "-+-+-\n",
      " | | \n",
      "-+-+-\n",
      " | | \n",
      "\n",
      "\n",
      "Enter position for O (1-9): 5\n",
      "X|O|X\n",
      "-+-+-\n",
      " |O| \n",
      "-+-+-\n",
      " | | \n",
      "\n",
      "\n",
      "X|O|X\n",
      "-+-+-\n",
      "X|O| \n",
      "-+-+-\n",
      " | | \n",
      "\n",
      "\n",
      "Enter position for O (1-9): 7\n",
      "X|O|X\n",
      "-+-+-\n",
      "X|O| \n",
      "-+-+-\n",
      "O| | \n",
      "\n",
      "\n",
      "X|O|X\n",
      "-+-+-\n",
      "X|O|X\n",
      "-+-+-\n",
      "O| | \n",
      "\n",
      "\n",
      "Enter position for O (1-9): 9\n",
      "X|O|X\n",
      "-+-+-\n",
      "X|O|X\n",
      "-+-+-\n",
      "O| |O\n",
      "\n",
      "\n",
      "X|O|X\n",
      "-+-+-\n",
      "X|O|X\n",
      "-+-+-\n",
      "O|X|O\n",
      "\n",
      "\n",
      "Draw!\n"
     ]
    }
   ],
   "source": [
    "#Not correctly determining whether the game is over.\n",
    "#while not chkForWin(player):\n",
    "#while not chkForWin('X') and not chkForWin('O') and not chkDraw():\n",
    " #   compMove()\n",
    "  #  playerMove()\n",
    "def main():\n",
    "    printBoard(board)\n",
    "    while True:\n",
    "        compMove()\n",
    "        if chkForWin(bot):\n",
    "            print('Bot wins!')\n",
    "            break\n",
    "        elif chkDraw():\n",
    "            print('Draw!')\n",
    "            break\n",
    "\n",
    "        playerMove()\n",
    "        if chkForWin(player):\n",
    "            print('You win!')\n",
    "            break\n",
    "        elif chkDraw():\n",
    "            print('Draw!')\n",
    "            break\n",
    "\n",
    "if __name__ == \"__main__\":\n",
    "    main()"
   ]
  },
  {
   "cell_type": "code",
   "execution_count": null,
   "id": "ec1719d4",
   "metadata": {},
   "outputs": [],
   "source": [
    "3\n"
   ]
  }
 ],
 "metadata": {
  "kernelspec": {
   "display_name": "Python 3",
   "language": "python",
   "name": "python3"
  },
  "language_info": {
   "codemirror_mode": {
    "name": "ipython",
    "version": 3
   },
   "file_extension": ".py",
   "mimetype": "text/x-python",
   "name": "python",
   "nbconvert_exporter": "python",
   "pygments_lexer": "ipython3",
   "version": "3.8.8"
  }
 },
 "nbformat": 4,
 "nbformat_minor": 5
}
