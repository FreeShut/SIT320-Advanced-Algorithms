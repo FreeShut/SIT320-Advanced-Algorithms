{
 "cells": [
  {
   "cell_type": "markdown",
   "id": "imposed-playlist",
   "metadata": {},
   "source": [
    "# Lab 6: Graphs II"
   ]
  },
  {
   "cell_type": "markdown",
   "id": "d97cce87",
   "metadata": {},
   "source": [
    "Lab associated with Module 6: Graphs II"
   ]
  },
  {
   "cell_type": "markdown",
   "id": "5c7f2e9d",
   "metadata": {},
   "source": [
    "***"
   ]
  },
  {
   "cell_type": "code",
   "execution_count": 81,
   "id": "5b495ad0",
   "metadata": {},
   "outputs": [
    {
     "data": {
      "text/html": [
       "<style>.container { width:95% !important; }</style>"
      ],
      "text/plain": [
       "<IPython.core.display.HTML object>"
      ]
     },
     "metadata": {},
     "output_type": "display_data"
    }
   ],
   "source": [
    "# The following lines are used to increase the width of cells to utilize more space on the screen \n",
    "from IPython.core.display import display, HTML\n",
    "display(HTML(\"<style>.container { width:95% !important; }</style>\"))"
   ]
  },
  {
   "cell_type": "markdown",
   "id": "3a2b855c",
   "metadata": {},
   "source": [
    "***"
   ]
  },
  {
   "cell_type": "markdown",
   "id": "9d0921a0",
   "metadata": {},
   "source": [
    "### Section 0: Imports"
   ]
  },
  {
   "cell_type": "code",
   "execution_count": 82,
   "id": "477622d5",
   "metadata": {},
   "outputs": [],
   "source": [
    "import numpy as np"
   ]
  },
  {
   "cell_type": "code",
   "execution_count": 83,
   "id": "50fb5ed5",
   "metadata": {},
   "outputs": [],
   "source": [
    "import math"
   ]
  },
  {
   "cell_type": "code",
   "execution_count": 84,
   "id": "965de108",
   "metadata": {},
   "outputs": [],
   "source": [
    "from IPython.display import Image\n",
    "from graphviz import Digraph\n",
    "import heapq\n",
    "from collections import deque\n",
    "from collections import defaultdict\n",
    "import time\n",
    "from time import perf_counter\n",
    "import matplotlib.pyplot as plt\n",
    "from IPython.display import Image\n",
    "import random"
   ]
  },
  {
   "cell_type": "markdown",
   "id": "214d69eb",
   "metadata": {},
   "source": [
    "Details of Digraph package: https://h1ros.github.io/posts/introduction-to-graphviz-in-jupyter-notebook/"
   ]
  },
  {
   "cell_type": "markdown",
   "id": "7f9321f8",
   "metadata": {},
   "source": [
    "***"
   ]
  },
  {
   "cell_type": "markdown",
   "id": "317d9bca",
   "metadata": {},
   "source": [
    "### Section 1: Graph Preliminaries"
   ]
  },
  {
   "cell_type": "markdown",
   "id": "cc820c0e",
   "metadata": {},
   "source": [
    "Let us start by implementing our Node and Graph data structure to incorporate weights in the graph"
   ]
  },
  {
   "cell_type": "code",
   "execution_count": 85,
   "id": "d8e6550f",
   "metadata": {},
   "outputs": [],
   "source": [
    "class Node:\n",
    "    \n",
    "    def __init__(self, v):\n",
    "\n",
    "        self.value = v\n",
    "        self.inNeighbors = []\n",
    "        self.outNeighbors = []\n",
    "        \n",
    "        #Adrian's suggestion:\n",
    "        self.parent = None\n",
    "        \n",
    "        self.status = \"unvisited\"\n",
    "        self.estD = np.inf\n",
    "        \n",
    "    def hasOutNeighbor(self, v):\n",
    "        \n",
    "        if v in self.outNeighbors:\n",
    "            return True\n",
    "        \n",
    "        return False\n",
    "        \n",
    "    def hasInNeighbor(self, v):\n",
    "        \n",
    "        if v in self.inNeighbors:\n",
    "            return True\n",
    "        \n",
    "        return False\n",
    "    \n",
    "    def hasNeighbor(self, v):\n",
    "        \n",
    "        if v in self.inNeighbors or v in self.outNeighbors:\n",
    "            return True\n",
    "        \n",
    "        return False\n",
    "    \n",
    "    def getOutNeighbors(self):\n",
    "        \n",
    "        return self.outNeighbors\n",
    "    \n",
    "    def getInNeighbors(self):\n",
    "        \n",
    "        return self.inNeighbors\n",
    "    \n",
    "    def getOutNeighborsWithWeights(self):\n",
    "        \n",
    "        return self.outNeighbors\n",
    "    \n",
    "    def getInNeighborsWithWeights(self):\n",
    "        \n",
    "        return self.inNeighbors\n",
    "    \n",
    "    # ------------------------------------------------\n",
    "    # Let us modify following two functions to incorporate weights\n",
    "    # ------------------------------------------------\n",
    "    \n",
    "    def addOutNeighbor(self,v,wt):\n",
    "        \n",
    "        self.outNeighbors.append((v,wt))\n",
    "    \n",
    "    def addInNeighbor(self,v,wt):\n",
    "        \n",
    "        self.inNeighbors.append((v,wt))\n",
    "        \n",
    "        \n",
    "    def __str__(self):\n",
    "        \n",
    "        return str(self.value) "
   ]
  },
  {
   "cell_type": "code",
   "execution_count": 86,
   "id": "30ab4c32",
   "metadata": {},
   "outputs": [],
   "source": [
    "class Graph:\n",
    "    \n",
    "    def __init__(self):\n",
    "        \n",
    "        self.vertices = []\n",
    "\n",
    "    def addVertex(self,n):\n",
    "        \n",
    "        self.vertices.append(n)\n",
    "        \n",
    "    # ------------------------------------------------\n",
    "    # Let us modify following two functions to incorporate weights\n",
    "    # ------------------------------------------------\n",
    "        \n",
    "    def addDiEdge(self, u, v, wt = 1):\n",
    "        \n",
    "        u.addOutNeighbor(v, wt = wt)\n",
    "        v.addInNeighbor(u, wt = wt)\n",
    "        \n",
    "    # add edges in both directions between u and v\n",
    "    def addBiEdge(self, u, v, wt = 1):\n",
    "        \n",
    "        self.addDiEdge(u, v, wt = wt)\n",
    "        self.addDiEdge(v, u, wt = wt)\n",
    "        \n",
    "            \n",
    "    # get a list of all the directed edges\n",
    "    # directed edges are a list of two vertices\n",
    "    def getDirEdges(self):\n",
    "        \n",
    "        ret = []\n",
    "        for v in self.vertices:\n",
    "            ret += [ [v, u] for u in v.outNeighbors ]\n",
    "        return ret\n",
    "    \n",
    "    # reverse the edge between u and v.  Multiple edges are not supported.\n",
    "    def reverseEdge(self,u,v):\n",
    "        \n",
    "        if u.hasOutNeighbor(v) and v.hasInNeighbor(u):\n",
    "            \n",
    "            if v.hasOutNeighbor(u) and u.hasInNeighbor(v): \n",
    "                return\n",
    "        \n",
    "            self.addDiEdge(v, u)\n",
    "            u.outNeighbors.remove(v)\n",
    "            v.inNeighbors.remove(u)        \n",
    "                \n",
    "    def __str__(self):\n",
    "        \n",
    "        ret = \"Graph with:\\n\"\n",
    "        ret += \"\\t Vertices:\\n\\t\"\n",
    "        for v in self.vertices:\n",
    "            ret += str(v) + \",\"\n",
    "        ret += \"\\n\"\n",
    "        ret += \"\\t Edges:\\n\\t\"\n",
    "        for a,b in self.getDirEdges():\n",
    "            ret += \"(\" + str(a) + \",\" + str(b) + \") \"\n",
    "        ret += \"\\n\"\n",
    "        return ret"
   ]
  },
  {
   "cell_type": "markdown",
   "id": "7afa81de",
   "metadata": {},
   "source": [
    "Now that we have incorporated the weights, let us devise a plan to generate the graph"
   ]
  },
  {
   "cell_type": "code",
   "execution_count": 87,
   "id": "d3a8a344",
   "metadata": {},
   "outputs": [
    {
     "data": {
      "image/svg+xml": [
       "<?xml version=\"1.0\" encoding=\"UTF-8\" standalone=\"no\"?>\n",
       "<!DOCTYPE svg PUBLIC \"-//W3C//DTD SVG 1.1//EN\"\n",
       " \"http://www.w3.org/Graphics/SVG/1.1/DTD/svg11.dtd\">\n",
       "<!-- Generated by graphviz version 2.50.0 (0)\n",
       " -->\n",
       "<!-- Pages: 1 -->\n",
       "<svg width=\"117pt\" height=\"404pt\"\n",
       " viewBox=\"0.00 0.00 117.00 404.00\" xmlns=\"http://www.w3.org/2000/svg\" xmlns:xlink=\"http://www.w3.org/1999/xlink\">\n",
       "<g id=\"graph0\" class=\"graph\" transform=\"scale(1 1) rotate(0) translate(4 400)\">\n",
       "<polygon fill=\"white\" stroke=\"transparent\" points=\"-4,4 -4,-400 113,-400 113,4 -4,4\"/>\n",
       "<!-- S -->\n",
       "<g id=\"node1\" class=\"node\">\n",
       "<title>S</title>\n",
       "<ellipse fill=\"none\" stroke=\"black\" cx=\"54\" cy=\"-378\" rx=\"27\" ry=\"18\"/>\n",
       "<text text-anchor=\"middle\" x=\"54\" y=\"-374.3\" font-family=\"Times New Roman,serif\" font-size=\"14.00\">S</text>\n",
       "</g>\n",
       "<!-- E -->\n",
       "<g id=\"node2\" class=\"node\">\n",
       "<title>E</title>\n",
       "<ellipse fill=\"none\" stroke=\"black\" cx=\"27\" cy=\"-306\" rx=\"27\" ry=\"18\"/>\n",
       "<text text-anchor=\"middle\" x=\"27\" y=\"-302.3\" font-family=\"Times New Roman,serif\" font-size=\"14.00\">E</text>\n",
       "</g>\n",
       "<!-- S&#45;&gt;E -->\n",
       "<g id=\"edge1\" class=\"edge\">\n",
       "<title>S&#45;&gt;E</title>\n",
       "<path fill=\"none\" stroke=\"black\" d=\"M47.6,-360.41C44.49,-352.34 40.67,-342.43 37.17,-333.35\"/>\n",
       "<polygon fill=\"black\" stroke=\"black\" points=\"40.4,-332.03 33.54,-323.96 33.87,-334.55 40.4,-332.03\"/>\n",
       "</g>\n",
       "<!-- A -->\n",
       "<g id=\"node3\" class=\"node\">\n",
       "<title>A</title>\n",
       "<ellipse fill=\"none\" stroke=\"black\" cx=\"82\" cy=\"-162\" rx=\"27\" ry=\"18\"/>\n",
       "<text text-anchor=\"middle\" x=\"82\" y=\"-158.3\" font-family=\"Times New Roman,serif\" font-size=\"14.00\">A</text>\n",
       "</g>\n",
       "<!-- S&#45;&gt;A -->\n",
       "<g id=\"edge2\" class=\"edge\">\n",
       "<title>S&#45;&gt;A</title>\n",
       "<path fill=\"none\" stroke=\"black\" d=\"M57.14,-359.85C58.98,-349.49 61.27,-336.01 63,-324 69.73,-277.2 75.81,-222.48 79.19,-190.4\"/>\n",
       "<polygon fill=\"black\" stroke=\"black\" points=\"82.68,-190.74 80.24,-180.43 75.72,-190.01 82.68,-190.74\"/>\n",
       "</g>\n",
       "<!-- D -->\n",
       "<g id=\"node4\" class=\"node\">\n",
       "<title>D</title>\n",
       "<ellipse fill=\"none\" stroke=\"black\" cx=\"27\" cy=\"-234\" rx=\"27\" ry=\"18\"/>\n",
       "<text text-anchor=\"middle\" x=\"27\" y=\"-230.3\" font-family=\"Times New Roman,serif\" font-size=\"14.00\">D</text>\n",
       "</g>\n",
       "<!-- E&#45;&gt;D -->\n",
       "<g id=\"edge3\" class=\"edge\">\n",
       "<title>E&#45;&gt;D</title>\n",
       "<path fill=\"none\" stroke=\"black\" d=\"M27,-287.7C27,-279.98 27,-270.71 27,-262.11\"/>\n",
       "<polygon fill=\"black\" stroke=\"black\" points=\"30.5,-262.1 27,-252.1 23.5,-262.1 30.5,-262.1\"/>\n",
       "</g>\n",
       "<!-- C -->\n",
       "<g id=\"node5\" class=\"node\">\n",
       "<title>C</title>\n",
       "<ellipse fill=\"none\" stroke=\"black\" cx=\"27\" cy=\"-90\" rx=\"27\" ry=\"18\"/>\n",
       "<text text-anchor=\"middle\" x=\"27\" y=\"-86.3\" font-family=\"Times New Roman,serif\" font-size=\"14.00\">C</text>\n",
       "</g>\n",
       "<!-- A&#45;&gt;C -->\n",
       "<g id=\"edge5\" class=\"edge\">\n",
       "<title>A&#45;&gt;C</title>\n",
       "<path fill=\"none\" stroke=\"black\" d=\"M70.07,-145.81C62.79,-136.55 53.34,-124.52 45.15,-114.09\"/>\n",
       "<polygon fill=\"black\" stroke=\"black\" points=\"47.84,-111.86 38.91,-106.16 42.34,-116.18 47.84,-111.86\"/>\n",
       "</g>\n",
       "<!-- D&#45;&gt;A -->\n",
       "<g id=\"edge4\" class=\"edge\">\n",
       "<title>D&#45;&gt;A</title>\n",
       "<path fill=\"none\" stroke=\"black\" d=\"M38.93,-217.81C46.21,-208.55 55.66,-196.52 63.85,-186.09\"/>\n",
       "<polygon fill=\"black\" stroke=\"black\" points=\"66.66,-188.18 70.09,-178.16 61.16,-183.86 66.66,-188.18\"/>\n",
       "</g>\n",
       "<!-- D&#45;&gt;C -->\n",
       "<g id=\"edge7\" class=\"edge\">\n",
       "<title>D&#45;&gt;C</title>\n",
       "<path fill=\"none\" stroke=\"black\" d=\"M27,-215.87C27,-191.67 27,-147.21 27,-118.39\"/>\n",
       "<polygon fill=\"black\" stroke=\"black\" points=\"30.5,-118.19 27,-108.19 23.5,-118.19 30.5,-118.19\"/>\n",
       "</g>\n",
       "<!-- B -->\n",
       "<g id=\"node6\" class=\"node\">\n",
       "<title>B</title>\n",
       "<ellipse fill=\"none\" stroke=\"black\" cx=\"54\" cy=\"-18\" rx=\"27\" ry=\"18\"/>\n",
       "<text text-anchor=\"middle\" x=\"54\" y=\"-14.3\" font-family=\"Times New Roman,serif\" font-size=\"14.00\">B</text>\n",
       "</g>\n",
       "<!-- C&#45;&gt;B -->\n",
       "<g id=\"edge8\" class=\"edge\">\n",
       "<title>C&#45;&gt;B</title>\n",
       "<path fill=\"none\" stroke=\"black\" d=\"M33.4,-72.41C36.51,-64.34 40.33,-54.43 43.83,-45.35\"/>\n",
       "<polygon fill=\"black\" stroke=\"black\" points=\"47.13,-46.55 47.46,-35.96 40.6,-44.03 47.13,-46.55\"/>\n",
       "</g>\n",
       "<!-- B&#45;&gt;A -->\n",
       "<g id=\"edge6\" class=\"edge\">\n",
       "<title>B&#45;&gt;A</title>\n",
       "<path fill=\"none\" stroke=\"black\" d=\"M57.39,-36.19C62.19,-60.53 71.01,-105.28 76.69,-134.06\"/>\n",
       "<polygon fill=\"black\" stroke=\"black\" points=\"73.25,-134.74 78.62,-143.87 80.12,-133.38 73.25,-134.74\"/>\n",
       "</g>\n",
       "</g>\n",
       "</svg>\n"
      ],
      "text/plain": [
       "<graphviz.graphs.Digraph at 0x15501f6bd00>"
      ]
     },
     "execution_count": 87,
     "metadata": {},
     "output_type": "execute_result"
    }
   ],
   "source": [
    "dot = Digraph()\n",
    "\n",
    "dot.edge('S', 'E')\n",
    "dot.edge('S', 'A')\n",
    "dot.edge('E', 'D')\n",
    "dot.edge('D', 'A')\n",
    "dot.edge('A', 'C')\n",
    "dot.edge('B', 'A')\n",
    "dot.edge('D', 'C')\n",
    "dot.edge('C', 'B')\n",
    "\n",
    "#dot.view()\n",
    "dot"
   ]
  },
  {
   "cell_type": "code",
   "execution_count": 88,
   "id": "90237e9f",
   "metadata": {},
   "outputs": [],
   "source": [
    "G = Graph()\n",
    "#for i in ['0', '1', '2', '3', '4', '5']:\n",
    "for i in ['S', 'E', 'A', 'D', 'B', 'C']:\n",
    "    G.addVertex( Node(i) )"
   ]
  },
  {
   "cell_type": "code",
   "execution_count": 89,
   "id": "e2160adc",
   "metadata": {},
   "outputs": [],
   "source": [
    "V = G.vertices\n",
    "\n",
    "#dot.edge('S', 'E')\n",
    "G.addDiEdge( V[0], V[1], 8)\n",
    "\n",
    "#dot.edge('S', 'A')\n",
    "G.addDiEdge( V[0], V[2] , 10)\n",
    "\n",
    "#dot.edge('E', 'D')\n",
    "G.addDiEdge( V[1], V[3], 1)\n",
    "\n",
    "#dot.edge('D', 'A')\n",
    "G.addDiEdge( V[3], V[2], -4)\n",
    "\n",
    "#dot.edge('A', 'C')\n",
    "G.addDiEdge( V[2], V[5], 2)\n",
    "\n",
    "#dot.edge('B', 'A')\n",
    "G.addDiEdge( V[4], V[2], 1 )\n",
    "\n",
    "#dot.edge('D', 'C')\n",
    "G.addDiEdge( V[3], V[5], -1)\n",
    "\n",
    "#dot.edge('C', 'B')\n",
    "G.addDiEdge( V[5], V[4], -2 )"
   ]
  },
  {
   "cell_type": "markdown",
   "id": "8fcbaefb",
   "metadata": {},
   "source": [
    "Second Example"
   ]
  },
  {
   "cell_type": "code",
   "execution_count": 90,
   "id": "dd4d197d",
   "metadata": {},
   "outputs": [],
   "source": [
    "G = Graph()\n",
    "#for i in ['0', '1', '2', '3', '4', '5']:\n",
    "for i in ['S', 'A', 'B']:\n",
    "    G.addVertex(Node(i))\n",
    "    \n",
    "V = G.vertices\n",
    "\n",
    "G.addDiEdge( V[0], V[1], 3)\n",
    "\n",
    "G.addDiEdge( V[0], V[2] , 4)\n",
    "\n",
    "G.addDiEdge( V[2], V[1], -2)"
   ]
  },
  {
   "cell_type": "code",
   "execution_count": 91,
   "id": "fb865755",
   "metadata": {},
   "outputs": [
    {
     "name": "stdout",
     "output_type": "stream",
     "text": [
      "Graph with:\n",
      "\t Vertices:\n",
      "\tS,A,B,\n",
      "\t Edges:\n",
      "\t(S,(<__main__.Node object at 0x0000015501195640>, 3)) (S,(<__main__.Node object at 0x0000015501195790>, 4)) (B,(<__main__.Node object at 0x0000015501195640>, -2)) \n",
      "\n"
     ]
    }
   ],
   "source": [
    "print(G)"
   ]
  },
  {
   "cell_type": "markdown",
   "id": "0ed62d3b",
   "metadata": {},
   "source": [
    "***"
   ]
  },
  {
   "cell_type": "markdown",
   "id": "94392ed1",
   "metadata": {},
   "source": [
    "### Section 2: Dijkstra Algorithm"
   ]
  },
  {
   "cell_type": "code",
   "execution_count": 92,
   "id": "b4d19469",
   "metadata": {},
   "outputs": [
    {
     "data": {
      "text/plain": [
       "3"
      ]
     },
     "execution_count": 92,
     "metadata": {},
     "output_type": "execute_result"
    }
   ],
   "source": [
    "len(G.vertices)"
   ]
  },
  {
   "cell_type": "code",
   "execution_count": 93,
   "id": "4df8a7a1",
   "metadata": {},
   "outputs": [],
   "source": [
    "def dijkstra(w, G):\n",
    "    \n",
    "    for v in G.vertices:\n",
    "        v.estD = math.inf\n",
    "        v.parent = None\n",
    "        \n",
    "    w.estD = 0\n",
    "    unsureVertices = G.vertices[:]\n",
    "    \n",
    "    sureVertices = []\n",
    "    \n",
    "    #Nayyar suggestion: parents = [None for i in len(G.vertices)] \n",
    "    #Adrian's suggestion: \n",
    "    #for i in len(G.vertices):\n",
    "     #   G.vertices.index(i).parent = None\n",
    "    # Jamie's solution: Keep a stack as local variable\n",
    "    \n",
    "    while len(unsureVertices) > 0:\n",
    "    \n",
    "        # find the u with the minimum estD in the dumbest way possible\n",
    "        u = None\n",
    "        minD = math.inf\n",
    "        for x in unsureVertices:\n",
    "            if x.estD < minD:\n",
    "                minD = x.estD\n",
    "                u = x\n",
    "        \n",
    "        if u == None:\n",
    "            # then there is nothing more that I can reach\n",
    "            return\n",
    "        \n",
    "        # update u's neighbors\n",
    "        for v, wt in u.getOutNeighborsWithWeights():\n",
    "            \n",
    "            if v in sureVertices:\n",
    "                continue\n",
    "            \n",
    "            if u.estD + wt < v.estD:\n",
    "                v.estD = u.estD + wt\n",
    "                \n",
    "                #Nayyar's solution: parents[G.vertices.index(v)] = G.vertices.index(u)\n",
    "                #Adrian's solution: \n",
    "                v.parent = u\n",
    "        \n",
    "        unsureVertices.remove(u)\n",
    "        sureVertices.append(u)\n",
    "    \n",
    "    # that's it!  Now each vertex holds estD which is its distance from w"
   ]
  },
  {
   "cell_type": "code",
   "execution_count": null,
   "id": "c3cb2b26",
   "metadata": {},
   "outputs": [],
   "source": []
  },
  {
   "cell_type": "code",
   "execution_count": 94,
   "id": "5bffc218",
   "metadata": {},
   "outputs": [
    {
     "name": "stdout",
     "output_type": "stream",
     "text": [
      "S 0\n",
      "A 3\n",
      "B 4\n"
     ]
    }
   ],
   "source": [
    "w = G.vertices[0]\n",
    "dijkstra(w, G)\n",
    "\n",
    "for v in G.vertices:\n",
    "    print(v.value, v.estD)"
   ]
  },
  {
   "cell_type": "code",
   "execution_count": 95,
   "id": "94d4885d",
   "metadata": {},
   "outputs": [
    {
     "name": "stdout",
     "output_type": "stream",
     "text": [
      "from S to B path: ['S', 'B']\n",
      "distance: 4\n"
     ]
    }
   ],
   "source": [
    "S = w\n",
    "T = None\n",
    "\n",
    "for v in G.vertices:\n",
    "    if v.value == 'B':  \n",
    "        T = v\n",
    "        break\n",
    "\n",
    "if T is None:\n",
    "    print(\"Nothing\")\n",
    "else:\n",
    "    current = T\n",
    "    path = []\n",
    "    while current != S:\n",
    "        path.append(current)\n",
    "        current = current.parent\n",
    "    \n",
    "    \n",
    "    path.append(S)\n",
    "    path.reverse()\n",
    "    print(f\"from {S.value} to {T.value} path:\", [node.value for node in path])\n",
    "    print(f\"distance: {T.estD}\")\n"
   ]
  },
  {
   "cell_type": "code",
   "execution_count": null,
   "id": "9b661b97",
   "metadata": {},
   "outputs": [],
   "source": []
  },
  {
   "cell_type": "markdown",
   "id": "0022f18f",
   "metadata": {},
   "source": [
    "***"
   ]
  },
  {
   "cell_type": "markdown",
   "id": "f9b31a04",
   "metadata": {},
   "source": [
    "### <font color='red'> Activity 1: Modify above code to do Bellman-Ford. Make sure you test for negative cycles and compare its performance with Dijkstra. </font>"
   ]
  },
  {
   "cell_type": "code",
   "execution_count": 96,
   "id": "8d176b03",
   "metadata": {},
   "outputs": [
    {
     "name": "stdout",
     "output_type": "stream",
     "text": [
      "Activity 1\n",
      "\n",
      "Negative cycle exists?\n",
      "\n",
      "False\n",
      "\n",
      "Shortest path distances:\n",
      "S: 0\n",
      "E: 8\n",
      "A: 5\n",
      "D: 9\n",
      "B: 5\n",
      "C: 7\n",
      "\n",
      "S->B Path: ['S', 'E', 'D', 'A', 'C', 'B']\n",
      "S->C Path: ['S', 'E', 'D', 'A', 'C']\n",
      "S->A Path: ['S', 'E', 'D', 'A']\n"
     ]
    }
   ],
   "source": [
    "#### TODO ####\n",
    "### Good Luck ###\n",
    "\n",
    "def Bellman_Ford(w, G):\n",
    "    # Initialize distance and predecessor for all vertices\n",
    "    for v in G.vertices:\n",
    "        v.estD = math.inf\n",
    "        v.parent = None\n",
    "    \n",
    "    w.estD = 0\n",
    "    \n",
    "    # Collect all directed edges (with weights)\n",
    "    edges = []\n",
    "    for v in G.vertices:\n",
    "        for neighbor, wt in v.getOutNeighborsWithWeights():\n",
    "            edges.append((v, neighbor, wt))\n",
    "    \n",
    "    # Perform |V|-1 relaxation steps\n",
    "    for i in range(len(G.vertices) - 1):\n",
    "        updated = False\n",
    "        for u, v, wt in edges:\n",
    "            if u.estD != math.inf and u.estD + wt < v.estD:\n",
    "                v.estD = u.estD + wt\n",
    "                v.parent = u\n",
    "                updated = True\n",
    "        \n",
    "        if not updated:\n",
    "            break\n",
    "    \n",
    "    # Check for negative-weight cycle\n",
    "    has_negative_cycle = False\n",
    "    for u, v, wt in edges:\n",
    "        if u.estD != math.inf and u.estD + wt < v.estD:\n",
    "            has_negative_cycle = True\n",
    "            print(\"Negative cycle detected!\")\n",
    "            break\n",
    "    \n",
    "    return has_negative_cycle\n",
    "\n",
    "def reconstruct_path(start, end):\n",
    "    \"\"\"Reconstruct path from end node to start node\"\"\"\n",
    "    if end.estD == math.inf:\n",
    "        return []  # Unreachable\n",
    "    \n",
    "    path = []\n",
    "    current = end\n",
    "    while current is not None:\n",
    "        path.append(current)\n",
    "        # Prevent infinite loop (safety check)\n",
    "        if current.parent is None or current.parent in path:\n",
    "            break\n",
    "        current = current.parent\n",
    "    \n",
    "    path.reverse()\n",
    "    # Ensure the path starts with the start node\n",
    "    if path and path[0] != start:\n",
    "        return []\n",
    "    return path\n",
    "\n",
    "# Test Bellman-Ford\n",
    "print(\"Activity 1\")\n",
    "\n",
    "# Create Section 1 graph (6 nodes)\n",
    "G_sec1 = Graph()\n",
    "for i in ['S', 'E', 'A', 'D', 'B', 'C']:\n",
    "    G_sec1.addVertex(Node(i))\n",
    "    \n",
    "V = G_sec1.vertices\n",
    "G_sec1.addDiEdge(V[0], V[1], 8)   # S -> E\n",
    "G_sec1.addDiEdge(V[0], V[2], 10)  # S -> A\n",
    "G_sec1.addDiEdge(V[1], V[3], 1)   # E -> D\n",
    "G_sec1.addDiEdge(V[3], V[2], -4)  # D -> A\n",
    "G_sec1.addDiEdge(V[2], V[5], 2)   # A -> C\n",
    "G_sec1.addDiEdge(V[4], V[2], 1)   # B -> A \n",
    "G_sec1.addDiEdge(V[3], V[5], -1)  # D -> C\n",
    "G_sec1.addDiEdge(V[5], V[4], -2)  # C -> B \n",
    "\n",
    "has_negative_cycle = Bellman_Ford(V[0], G_sec1)  # Start from S\n",
    "print(\"\\nNegative cycle exists?\")\n",
    "print(\"\")\n",
    "print(has_negative_cycle)\n",
    "print(\"\")\n",
    "print(\"Shortest path distances:\")\n",
    "for v in G_sec1.vertices:\n",
    "    print(f\"{v.value}: {v.estD}\")\n",
    "\n",
    "# S -> B\n",
    "path = reconstruct_path(V[0], V[4])  # S -> B\n",
    "print(\"\\nS->B Path:\", [node.value for node in path])\n",
    "\n",
    "# S -> C\n",
    "path = reconstruct_path(V[0], V[5])  # S -> C\n",
    "print(\"S->C Path:\", [node.value for node in path])\n",
    "\n",
    "# S -> A\n",
    "path = reconstruct_path(V[0], V[2])  # S -> A\n",
    "print(\"S->A Path:\", [node.value for node in path])\n"
   ]
  },
  {
   "cell_type": "markdown",
   "id": "9c64f77d",
   "metadata": {},
   "source": [
    "***"
   ]
  },
  {
   "cell_type": "markdown",
   "id": "ebd772d0",
   "metadata": {},
   "source": [
    "### <font color='red'> Activity 2: Implement Floyd-Warshal algorithm using above data structure (that is Node and Graph). Make sure to test all the use-cases. </font>"
   ]
  },
  {
   "cell_type": "code",
   "execution_count": 97,
   "id": "edf0acbd",
   "metadata": {},
   "outputs": [
    {
     "name": "stdout",
     "output_type": "stream",
     "text": [
      "Activity 2\n",
      "\n",
      "Distance matrix:\n",
      "(array([[ 0.,  8.,  5.,  9.,  5.,  7.],\n",
      "       [inf,  0., -3.,  1., -3., -1.],\n",
      "       [inf, inf,  0., inf,  0.,  2.],\n",
      "       [inf, inf, -4.,  0., -4., -2.],\n",
      "       [inf, inf,  1., inf,  0.,  3.],\n",
      "       [inf, inf, -1., inf, -2.,  0.]]), array([[-1,  1,  1,  1,  1,  1],\n",
      "       [-1, -1,  3,  3,  3,  3],\n",
      "       [-1, -1, -1, -1,  5,  5],\n",
      "       [-1, -1,  2, -1,  2,  2],\n",
      "       [-1, -1,  2, -1, -1,  2],\n",
      "       [-1, -1,  4, -1,  4, -1]]), False, <function Floyd_Warshal.<locals>.reconstruct_path at 0x0000015501F7DB80>)\n",
      "[[ 0.  8.  5.  9.  5.  7.]\n",
      " [inf  0. -3.  1. -3. -1.]\n",
      " [inf inf  0. inf  0.  2.]\n",
      " [inf inf -4.  0. -4. -2.]\n",
      " [inf inf  1. inf  0.  3.]\n",
      " [inf inf -1. inf -2.  0.]]\n",
      "\n",
      "Negative cycle exists?\n",
      "\n",
      "False\n",
      "\n",
      "Path S->B: ['S', 'E', 'D', 'A', 'C', 'B']\n",
      "Path S->C: ['S', 'E', 'D', 'A', 'C']\n",
      "Path S->A: ['S', 'E', 'D', 'A']\n",
      "Path S->D: ['S', 'E', 'D']\n"
     ]
    }
   ],
   "source": [
    "#### TODO ####\n",
    "### Good Luck ###\n",
    "\n",
    "def Floyd_Warshal(G):\n",
    "    # Distance and predecessor matrices\n",
    "    vertices = G.vertices\n",
    "    n = len(vertices)\n",
    "    \n",
    "    # Create the distance matrix\n",
    "    distance = np.full((n, n), np.inf)\n",
    "    \n",
    "    # Set diagonal \n",
    "    for i in range(n):\n",
    "        distance[i][i] = 0\n",
    "    \n",
    "    # Create the predecessor matrix\n",
    "    next_node = np.full((n, n), -1)  # Stores the index of the next hop\n",
    "    \n",
    "    # Create a mapping\n",
    "    index_map = {v: i for i, v in enumerate(vertices)}\n",
    "    \n",
    "    for u in vertices:\n",
    "        u_idx = index_map[u]\n",
    "        for v, wt in u.getOutNeighborsWithWeights():\n",
    "            v_idx = index_map[v]\n",
    "            distance[u_idx][v_idx] = wt\n",
    "            next_node[u_idx][v_idx] = v_idx  # Next hop is the destination node\n",
    "\n",
    "    for k in range(n):\n",
    "        for i in range(n):\n",
    "            if distance[i][k] == np.inf:\n",
    "                continue\n",
    "            for j in range(n):\n",
    "                if distance[k][j] == np.inf:\n",
    "                    continue\n",
    "                \n",
    "                new_distance = distance[i][k] + distance[k][j]\n",
    "                if new_distance < distance[i][j]:\n",
    "                    distance[i][j] = new_distance\n",
    "                    next_node[i][j] = next_node[i][k]  # Next hop points to the intermediate node\n",
    "    \n",
    "    # Negative cycles\n",
    "    has_negative_cycle = False\n",
    "    for i in range(n):\n",
    "        if distance[i][i] < 0:\n",
    "            has_negative_cycle = True\n",
    "            print(f\"Negative cycle detected: self-loop distance at node {vertices[i].value} is {distance[i][i]}\")\n",
    "            break\n",
    "    \n",
    "    # Path reconstruction\n",
    "    def reconstruct_path(start, end):\n",
    "        start_idx = index_map[start]\n",
    "        end_idx = index_map[end]\n",
    "        \n",
    "        if distance[start_idx][end_idx] == np.inf:\n",
    "            return []\n",
    "        \n",
    "        path = [start]\n",
    "        current_idx = start_idx\n",
    "        \n",
    "        # Reconstruct the path \n",
    "        while current_idx != end_idx:\n",
    "            next_idx_val = next_node[current_idx][end_idx]\n",
    "            if next_idx_val == -1:\n",
    "                break\n",
    "            path.append(vertices[next_idx_val])\n",
    "            current_idx = next_idx_val\n",
    "        \n",
    "        return path\n",
    "    \n",
    "    return distance, next_node, has_negative_cycle, reconstruct_path\n",
    "\n",
    "# Test\n",
    "print(\"Activity 2\")\n",
    "\n",
    "# Use the graph from Section 1\n",
    "dist_matrix, next_node, has_neg_cycle, reconstruct_path = Floyd_Warshal(G_sec1)\n",
    "print(\"\\nDistance matrix:\")\n",
    "print(Floyd_Warshal(G_sec1))\n",
    "print(dist_matrix)\n",
    "\n",
    "print(\"\\nNegative cycle exists?\")\n",
    "print()\n",
    "print(has_neg_cycle)\n",
    "\n",
    "graph_vertices = G_sec1.vertices\n",
    "\n",
    "node_dict = {node.value: node for node in graph_vertices}\n",
    "\n",
    "# S -> B\n",
    "path = reconstruct_path(node_dict['S'], node_dict['B'])\n",
    "print(\"\\nPath S->B:\", [node.value for node in path])\n",
    "\n",
    "# S -> C\n",
    "path = reconstruct_path(node_dict['S'], node_dict['C'])\n",
    "print(\"Path S->C:\", [node.value for node in path])\n",
    "\n",
    "# S -> A\n",
    "path = reconstruct_path(node_dict['S'], node_dict['A'])\n",
    "print(\"Path S->A:\", [node.value for node in path])\n",
    "\n",
    "# S -> D\n",
    "path = reconstruct_path(node_dict['S'], node_dict['D'])\n",
    "print(\"Path S->D:\", [node.value for node in path])"
   ]
  },
  {
   "cell_type": "markdown",
   "id": "e143dc12",
   "metadata": {},
   "source": [
    "***"
   ]
  },
  {
   "cell_type": "markdown",
   "id": "79cfe7ab",
   "metadata": {},
   "source": [
    "***"
   ]
  },
  {
   "cell_type": "markdown",
   "id": "6bbe60d9",
   "metadata": {},
   "source": [
    "# Task 2 Graph Colouring Problem"
   ]
  },
  {
   "cell_type": "code",
   "execution_count": 98,
   "id": "072544a3",
   "metadata": {},
   "outputs": [
    {
     "name": "stdout",
     "output_type": "stream",
     "text": [
      "Greedy colouring: {'A': 0, 'B': 1, 'C': 2, 'D': 0}\n"
     ]
    }
   ],
   "source": [
    "def greedy_graph_coloring(graph):\n",
    "    colors = {}\n",
    "    for node in graph:\n",
    "        # Get the set of colours used by neighbours\n",
    "        neighbour_colors = {colors[neigh] for neigh in graph[node] if neigh in colors}\n",
    "        # Try assigning a colour (0,1,2)\n",
    "        for c in range(3):\n",
    "            if c not in neighbour_colors:\n",
    "                colors[node] = c\n",
    "                break\n",
    "        else:\n",
    "            # No colour available\n",
    "            colors[node] = None\n",
    "    return colors\n",
    "\n",
    "\n",
    "# Example usage\n",
    "graph = {\n",
    "    'A': ['B', 'C'],\n",
    "    'B': ['A', 'C'],\n",
    "    'C': ['A', 'B', 'D'],\n",
    "    'D': ['C']\n",
    "}\n",
    "print(\"Greedy colouring:\", greedy_graph_coloring(graph))\n"
   ]
  },
  {
   "cell_type": "markdown",
   "id": "d1e60dc9",
   "metadata": {},
   "source": [
    "# Task 3  Test if Graph is Bi-parBte"
   ]
  },
  {
   "cell_type": "code",
   "execution_count": 99,
   "id": "21aa28fa",
   "metadata": {},
   "outputs": [
    {
     "name": "stdout",
     "output_type": "stream",
     "text": [
      "Bipartite test 1: (True, {1: 0, 2: 1, 3: 1, 4: 0})\n",
      "Bipartite test 2: (False, {1: 0, 2: 1, 3: 1})\n"
     ]
    }
   ],
   "source": [
    "from collections import deque\n",
    "\n",
    "def is_bipartite(graph):\n",
    "    color = {}\n",
    "    for start in graph:\n",
    "        if start not in color:  # No color\n",
    "            queue = deque([start])\n",
    "            color[start] = 0\n",
    "            while queue:\n",
    "                node = queue.popleft()\n",
    "                for neigh in graph[node]:\n",
    "                    if neigh not in color:\n",
    "                        color[neigh] = 1 - color[node]  # Mix colour\n",
    "                        queue.append(neigh)\n",
    "                    elif color[neigh] == color[node]:\n",
    "                        return False, color\n",
    "    return True, color\n",
    "\n",
    "\n",
    "# test\n",
    "bipartite_graph = {\n",
    "    1: [2, 3],\n",
    "    2: [1, 4],\n",
    "    3: [1, 4],\n",
    "    4: [2, 3]\n",
    "}\n",
    "non_bipartite_graph = {\n",
    "    1: [2, 3],\n",
    "    2: [1, 3],\n",
    "    3: [1, 2]\n",
    "}\n",
    "print(\"Bipartite test 1:\", is_bipartite(bipartite_graph))\n",
    "print(\"Bipartite test 2:\", is_bipartite(non_bipartite_graph))\n"
   ]
  },
  {
   "cell_type": "markdown",
   "id": "d2afb745",
   "metadata": {},
   "source": [
    "# Task 6  Task 6: Research and Implement Johnson’s Algorithm"
   ]
  },
  {
   "cell_type": "code",
   "execution_count": 100,
   "id": "70606b76",
   "metadata": {},
   "outputs": [
    {
     "name": "stdout",
     "output_type": "stream",
     "text": [
      "Johnson result: {'A': {'A': 0, 'B': 1, 'C': -2, 'D': 0}, 'B': {'A': inf, 'B': 0, 'C': 3, 'D': 5}, 'C': {'A': inf, 'B': inf, 'C': 0, 'D': 2}, 'D': {'A': inf, 'B': inf, 'C': inf, 'D': 0}}\n"
     ]
    }
   ],
   "source": [
    "def dijkstra_adj(graph, start):\n",
    "    \"using adjacency list representation.\"\n",
    "    dist = {node: float('inf') for node in graph}\n",
    "    dist[start] = 0\n",
    "    heap = [(0, start)]\n",
    "    while heap:\n",
    "        d, u = heapq.heappop(heap)\n",
    "        if d != dist[u]:\n",
    "            continue\n",
    "        for v, w in graph[u].items():\n",
    "            nd = d + w\n",
    "            if nd < dist[v]:\n",
    "                dist[v] = nd\n",
    "                heapq.heappush(heap, (nd, v))\n",
    "    return dist\n",
    "\n",
    "def johnson(vertices, edges):\n",
    "    # Create Graph\n",
    "    G_bf = Graph()\n",
    "    node_map = {}\n",
    "    \n",
    "    # Add original vertices\n",
    "    for v in vertices:\n",
    "        node = Node(v)\n",
    "        G_bf.addVertex(node)\n",
    "        node_map[v] = node\n",
    "    \n",
    "    # Add auxiliary node 'Q'\n",
    "    node_q = Node('Q')\n",
    "    G_bf.addVertex(node_q)\n",
    "    node_map['Q'] = node_q\n",
    "    \n",
    "    # Add original edges\n",
    "    for u, v, w in edges:\n",
    "        G_bf.addDiEdge(node_map[u], node_map[v], w)\n",
    "    \n",
    "    # Add edges from 'Q'\n",
    "    for v in vertices:\n",
    "        G_bf.addDiEdge(node_q, node_map[v], 0)\n",
    "    \n",
    "    # Bellman-Ford\n",
    "    has_neg_cycle = Bellman_Ford(node_q, G_bf)\n",
    "    if has_neg_cycle:\n",
    "        print(\"Negative cycle detected. Johnson's algorithm not applicable.\")\n",
    "        return None\n",
    "    \n",
    "    # Get reweighting values\n",
    "    h = {v: node_map[v].estD for v in vertices}\n",
    "    \n",
    "    # Build list graph\n",
    "    graph_rew = {v: {} for v in vertices}\n",
    "    for u, v, w in edges:\n",
    "        graph_rew[u][v] = w + h[u] - h[v]  # Reweight edges\n",
    "    \n",
    "    # for each vertex and adjust distances\n",
    "    result = {}\n",
    "    for u in vertices:\n",
    "        dists = dijkstra_adj(graph_rew, u)\n",
    "        result[u] = {}\n",
    "        for v in dists:\n",
    "            result[u][v] = dists[v] - h[u] + h[v]  # Original distance\n",
    "            \n",
    "    return result\n",
    "\n",
    "# Test out\n",
    "V = ['A','B','C','D']\n",
    "E = [('A','B',1), ('B','C',3), ('A','C',-2), ('C','D',2)]\n",
    "print(\"Johnson result:\", johnson(V, E))"
   ]
  },
  {
   "cell_type": "code",
   "execution_count": null,
   "id": "4e242dd7",
   "metadata": {},
   "outputs": [],
   "source": []
  }
 ],
 "metadata": {
  "kernelspec": {
   "display_name": "Python 3",
   "language": "python",
   "name": "python3"
  },
  "language_info": {
   "codemirror_mode": {
    "name": "ipython",
    "version": 3
   },
   "file_extension": ".py",
   "mimetype": "text/x-python",
   "name": "python",
   "nbconvert_exporter": "python",
   "pygments_lexer": "ipython3",
   "version": "3.8.8"
  }
 },
 "nbformat": 4,
 "nbformat_minor": 5
}
