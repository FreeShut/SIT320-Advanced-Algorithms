{
 "cells": [
  {
   "cell_type": "markdown",
   "id": "imposed-playlist",
   "metadata": {},
   "source": [
    "# Greedy Algorithms"
   ]
  },
  {
   "cell_type": "markdown",
   "id": "d97cce87",
   "metadata": {},
   "source": [
    "Lab associated with Module 8: Greedy Algorithms"
   ]
  },
  {
   "cell_type": "markdown",
   "id": "5c7f2e9d",
   "metadata": {},
   "source": [
    "***"
   ]
  },
  {
   "cell_type": "code",
   "execution_count": 71,
   "id": "5b495ad0",
   "metadata": {},
   "outputs": [
    {
     "data": {
      "text/html": [
       "<style>.container { width:95% !important; }</style>"
      ],
      "text/plain": [
       "<IPython.core.display.HTML object>"
      ]
     },
     "metadata": {},
     "output_type": "display_data"
    }
   ],
   "source": [
    "# The following lines are used to increase the width of cells to utilize more space on the screen \n",
    "from IPython.core.display import display, HTML\n",
    "display(HTML(\"<style>.container { width:95% !important; }</style>\"))"
   ]
  },
  {
   "cell_type": "markdown",
   "id": "3a2b855c",
   "metadata": {},
   "source": [
    "***"
   ]
  },
  {
   "cell_type": "markdown",
   "id": "9d0921a0",
   "metadata": {},
   "source": [
    "### Section 0: Imports"
   ]
  },
  {
   "cell_type": "code",
   "execution_count": 72,
   "id": "477622d5",
   "metadata": {},
   "outputs": [],
   "source": [
    "import numpy as np"
   ]
  },
  {
   "cell_type": "code",
   "execution_count": 73,
   "id": "50fb5ed5",
   "metadata": {},
   "outputs": [],
   "source": [
    "import math"
   ]
  },
  {
   "cell_type": "code",
   "execution_count": 74,
   "id": "9910ee06",
   "metadata": {},
   "outputs": [],
   "source": [
    "from IPython.display import Image\n",
    "from graphviz import Digraph\n",
    "import heapq\n",
    "import time\n",
    "import random"
   ]
  },
  {
   "cell_type": "markdown",
   "id": "7f9321f8",
   "metadata": {},
   "source": [
    "***"
   ]
  },
  {
   "cell_type": "markdown",
   "id": "f9b31a04",
   "metadata": {},
   "source": [
    "### <font color='red'> Activity 1: Write code for creating a prefix tree for any arbitrary distribution, e.g., [A:45, B:13, C:12, D:16, E:9, F:5]. Your algorithm should return the prefix tree and should display the correct code for every alphabet.. </font>"
   ]
  },
  {
   "cell_type": "code",
   "execution_count": 75,
   "id": "8d176b03",
   "metadata": {},
   "outputs": [],
   "source": [
    "#### TODO ####\n",
    "### Good Luck ###\n",
    "\n",
    "class Node:\n",
    "    def __init__(self, char=None, freq=0):\n",
    "        self.char = char      \n",
    "        self.freq = freq      \n",
    "        self.left = None      \n",
    "        self.right = None     \n",
    "\n",
    "    def __lt__(self, other):  # Sort by frequency when comparing heaps\n",
    "        return self.freq < other.freq\n",
    "\n",
    "# Constructing a Huffman tree\n",
    "def build_tree(freq_dict):\n",
    "    # 1. Put all characters into the root pile\n",
    "    heap = [Node(ch, f) for ch, f in freq_dict.items()]\n",
    "    heapq.heapify(heap)\n",
    "\n",
    "    # 2. Take the two smallest ones each time\n",
    "    while len(heap) > 1:\n",
    "        n1 = heapq.heappop(heap)\n",
    "        n2 = heapq.heappop(heap)\n",
    "        parent = Node(freq=n1.freq + n2.freq)\n",
    "        parent.left = n1\n",
    "        parent.right = n2\n",
    "        heapq.heappush(heap, parent)\n",
    "\n",
    "    return heap[0]  \n",
    "\n",
    "# Traversing the tree\n",
    "def get_codes(node, code=\"\", code_dict=None):\n",
    "    if code_dict is None:\n",
    "        code_dict = {}\n",
    "    if node:\n",
    "        if node.char is not None:  # Leaf nodes\n",
    "            code_dict[node.char] = code\n",
    "        get_codes(node.left, code + \"0\", code_dict)\n",
    "        get_codes(node.right, code + \"1\", code_dict)\n",
    "    return code_dict\n",
    "\n",
    "\n"
   ]
  },
  {
   "cell_type": "code",
   "execution_count": 76,
   "id": "54efc607",
   "metadata": {},
   "outputs": [
    {
     "name": "stdout",
     "output_type": "stream",
     "text": [
      "Huffman：\n",
      "A : 0\n",
      "C : 100\n",
      "B : 101\n",
      "F : 1100\n",
      "E : 1101\n",
      "D : 111\n"
     ]
    }
   ],
   "source": [
    "example = {'A':45, 'B':13, 'C':12, 'D':16, 'E':9, 'F':5}\n",
    "root = build_tree(example)\n",
    "codes = get_codes(root)\n",
    "\n",
    "print(\"Huffman：\")\n",
    "for ch, code in codes.items():\n",
    "    print(ch, \":\", code)"
   ]
  },
  {
   "cell_type": "markdown",
   "id": "6570890e",
   "metadata": {},
   "source": [
    "***"
   ]
  },
  {
   "cell_type": "markdown",
   "id": "6e92fc09",
   "metadata": {},
   "source": [
    "###  Prim's Algorithm"
   ]
  },
  {
   "cell_type": "markdown",
   "id": "ce467019",
   "metadata": {},
   "source": [
    "Graph's Preliminaries"
   ]
  },
  {
   "cell_type": "code",
   "execution_count": 77,
   "id": "4cdc7ece",
   "metadata": {},
   "outputs": [],
   "source": [
    "from graph import *"
   ]
  },
  {
   "cell_type": "code",
   "execution_count": 78,
   "id": "a75ba3ec",
   "metadata": {},
   "outputs": [],
   "source": [
    "G = Graph()\n",
    "\n",
    "for i in ['A', 'B', 'C', 'D', 'E', 'F', 'G', 'H', 'I']:\n",
    "    G.addVertex( Node(i) )"
   ]
  },
  {
   "cell_type": "code",
   "execution_count": 79,
   "id": "c990d75e",
   "metadata": {},
   "outputs": [],
   "source": [
    "V = G.vertices\n",
    "\n",
    "#0, 1, 2, 3, 4, 5, 6, 7, 8\n",
    "#A, B, C, D, E, F, G, H, I\n",
    "\n",
    "G.addBiEdge( V[0], V[1], 4)\n",
    "\n",
    "G.addBiEdge( V[0], V[7] , 8)\n",
    "\n",
    "G.addBiEdge( V[1], V[7], 11)\n",
    "\n",
    "G.addBiEdge( V[1], V[2], 8)\n",
    "\n",
    "G.addBiEdge( V[2], V[3], 7)\n",
    "\n",
    "G.addBiEdge( V[3], V[4], 9)\n",
    "\n",
    "G.addBiEdge( V[3], V[5], 14 )\n",
    "\n",
    "G.addBiEdge( V[4], V[5], 10 )\n",
    "\n",
    "G.addBiEdge( V[2], V[5], 4 )\n",
    "\n",
    "G.addBiEdge( V[2], V[8], 2 )\n",
    "\n",
    "G.addBiEdge( V[5], V[6], 2 )\n",
    "\n",
    "G.addBiEdge( V[6], V[7], 1 )\n",
    "\n",
    "G.addBiEdge( V[6], V[8], 6 )\n",
    "\n",
    "G.addBiEdge( V[7], V[8], 7 )\n"
   ]
  },
  {
   "cell_type": "code",
   "execution_count": 80,
   "id": "2ac81f26",
   "metadata": {},
   "outputs": [
    {
     "name": "stdout",
     "output_type": "stream",
     "text": [
      "Graph with:\n",
      "\t Vertices:\n",
      "\tA,B,C,D,E,F,G,H,I,\n",
      "\t Edges:\n",
      "\t(A,(<graph.Node object at 0x0000021A45D55D30>, 4)) (A,(<graph.Node object at 0x0000021A447BA940>, 8)) (B,(<graph.Node object at 0x0000021A45D55C40>, 4)) (B,(<graph.Node object at 0x0000021A447BA940>, 11)) (B,(<graph.Node object at 0x0000021A45D55BE0>, 8)) (C,(<graph.Node object at 0x0000021A45D55D30>, 8)) (C,(<graph.Node object at 0x0000021A45D55280>, 7)) (C,(<graph.Node object at 0x0000021A447BA9D0>, 4)) (C,(<graph.Node object at 0x0000021A447BAE20>, 2)) (D,(<graph.Node object at 0x0000021A45D55BE0>, 7)) (D,(<graph.Node object at 0x0000021A447BAF10>, 9)) (D,(<graph.Node object at 0x0000021A447BA9D0>, 14)) (E,(<graph.Node object at 0x0000021A45D55280>, 9)) (E,(<graph.Node object at 0x0000021A447BA9D0>, 10)) (F,(<graph.Node object at 0x0000021A45D55280>, 14)) (F,(<graph.Node object at 0x0000021A447BAF10>, 10)) (F,(<graph.Node object at 0x0000021A45D55BE0>, 4)) (F,(<graph.Node object at 0x0000021A447BAC70>, 2)) (G,(<graph.Node object at 0x0000021A447BA9D0>, 2)) (G,(<graph.Node object at 0x0000021A447BA940>, 1)) (G,(<graph.Node object at 0x0000021A447BAE20>, 6)) (H,(<graph.Node object at 0x0000021A45D55C40>, 8)) (H,(<graph.Node object at 0x0000021A45D55D30>, 11)) (H,(<graph.Node object at 0x0000021A447BAC70>, 1)) (H,(<graph.Node object at 0x0000021A447BAE20>, 7)) (I,(<graph.Node object at 0x0000021A45D55BE0>, 2)) (I,(<graph.Node object at 0x0000021A447BAC70>, 6)) (I,(<graph.Node object at 0x0000021A447BA940>, 7)) \n",
      "\n"
     ]
    }
   ],
   "source": [
    "print(G)"
   ]
  },
  {
   "cell_type": "markdown",
   "id": "10941ad1",
   "metadata": {},
   "source": [
    "This is what we had in the lectures as the slow implementation of Prim's Algorithm"
   ]
  },
  {
   "cell_type": "code",
   "execution_count": 81,
   "id": "c75594c0",
   "metadata": {},
   "outputs": [],
   "source": [
    "# G is graph\n",
    "# s is the node to start\n",
    "\n",
    "def slowPrim(G, s):\n",
    "    \n",
    "    # first, find the lightest edge leaving s\n",
    "    bestWt = np.inf\n",
    "    bestu = None\n",
    "    \n",
    "    for u,wt in s.getOutNeighborsWithWeights():\n",
    "        \n",
    "        if wt < bestWt:\n",
    "            bestWt = wt\n",
    "            bestu = u\n",
    "    \n",
    "    MST = [ (s, bestu) ]\n",
    "    verticesVisited = [s,bestu]\n",
    "    \n",
    "    while len(verticesVisited) < len(G.vertices): # danger! this will loop forever if the graph isn't connected...\n",
    "        \n",
    "        # find the lightest edge (x,v) so that x has been visited and v hasn't.\n",
    "        bestWt = np.inf\n",
    "        bestv = None\n",
    "        bestx = None\n",
    "        \n",
    "        for x in verticesVisited:\n",
    "            for v,wt in x.getOutNeighborsWithWeights():     \n",
    "                if v in verticesVisited:\n",
    "                    continue\n",
    "                \n",
    "                if wt < bestWt:\n",
    "                    bestWt = wt\n",
    "                    bestv = v\n",
    "                    bestx = x\n",
    "                    \n",
    "        MST.append((bestx,bestv))\n",
    "        verticesVisited.append(bestv)\n",
    "    \n",
    "    return MST"
   ]
  },
  {
   "cell_type": "code",
   "execution_count": 82,
   "id": "f6ff20d2",
   "metadata": {},
   "outputs": [
    {
     "name": "stdout",
     "output_type": "stream",
     "text": [
      "A B\n",
      "A H\n",
      "H G\n",
      "G F\n",
      "F C\n",
      "C I\n",
      "C D\n",
      "D E\n"
     ]
    }
   ],
   "source": [
    "T = slowPrim(G, G.vertices[0])\n",
    "\n",
    "for x,y in T:\n",
    "    print(x,y)\n",
    "    \n"
   ]
  },
  {
   "cell_type": "markdown",
   "id": "3f2b31e2",
   "metadata": {},
   "source": [
    "Okay, it seems to be working fine, but as we discussed, will be quite slow. Let us see if we can work on the faster version of the code as:"
   ]
  },
  {
   "cell_type": "markdown",
   "id": "42212e3d",
   "metadata": {},
   "source": [
    "### <font color='red'> Activity 2: In lights of Prim's Algorithm above, write an efficient implementation based on our discussions in the Seminar/Lecture. </font>"
   ]
  },
  {
   "cell_type": "code",
   "execution_count": 83,
   "id": "e32585d1",
   "metadata": {},
   "outputs": [],
   "source": [
    "def prim(G, w):\n",
    "    #### TODO ####\n",
    "    ### Good Luck ###\n",
    "    \n",
    "    # A counter to ensure that the priority queue does not try to compare\n",
    "    counter = 0\n",
    "    \n",
    "    MST = []  \n",
    "    visited = set([w])  \n",
    "    edges = []  \n",
    "    \n",
    "    # Add all outgoing edges of the starting node to the priority queue\n",
    "    for neighbor, weight in w.getOutNeighborsWithWeights():\n",
    "        heapq.heappush(edges, (weight, counter, w, neighbor))\n",
    "        counter += 1\n",
    "    \n",
    "    # When there are edges to process and not all nodes have been visited\n",
    "    while edges and len(visited) < len(G.vertices):\n",
    "        # Get the edge with the smallest weight\n",
    "        weight, _, u, v = heapq.heappop(edges)\n",
    "        \n",
    "        # If the target node has not been visited\n",
    "        if v not in visited:\n",
    "            MST.append((u, v))\n",
    "            visited.add(v)\n",
    "            \n",
    "            # Add all outgoing edges of the newly visited node to the priority queue\n",
    "            for neighbor, w in v.getOutNeighborsWithWeights():\n",
    "                if neighbor not in visited:\n",
    "                    heapq.heappush(edges, (w, counter, v, neighbor))\n",
    "                    counter += 1\n",
    "    \n",
    "    return MST"
   ]
  },
  {
   "cell_type": "code",
   "execution_count": 84,
   "id": "e6c07571",
   "metadata": {},
   "outputs": [
    {
     "name": "stdout",
     "output_type": "stream",
     "text": [
      "A B\n",
      "A H\n",
      "H G\n",
      "G F\n",
      "F C\n",
      "C I\n",
      "C D\n",
      "D E\n"
     ]
    }
   ],
   "source": [
    "T = prim(G, G.vertices[0])\n",
    "\n",
    "for x,y in T:\n",
    "    print(x,y)"
   ]
  },
  {
   "cell_type": "code",
   "execution_count": 88,
   "id": "d1ec8a43",
   "metadata": {},
   "outputs": [
    {
     "name": "stdout",
     "output_type": "stream",
     "text": [
      "Prim's algorithm\n",
      "Vertices|First algorithm time |Second algorithm time | Speedup\n",
      "    10 |        0.000000 |        0.000000 |      infx\n",
      "    20 |        0.000000 |        0.000000 |      infx\n",
      "    50 |        0.004000 |        0.000000 |      infx\n",
      "   100 |        0.053209 |        0.001000 |    53.21x\n",
      "   200 |        0.830225 |        0.004002 |   207.44x\n"
     ]
    }
   ],
   "source": [
    "def generate_random_graph(num_vertices, edge_probability=0.3, max_weight=100):\n",
    "    G = Graph()\n",
    "    \n",
    "    for i in range(num_vertices):\n",
    "        G.addVertex(Node(str(i)))\n",
    "    \n",
    "    V = G.vertices\n",
    "    \n",
    "    for i in range(num_vertices):\n",
    "        for j in range(i + 1, num_vertices):\n",
    "            if random.random() < edge_probability:\n",
    "                weight = random.randint(1, max_weight)\n",
    "                G.addBiEdge(V[i], V[j], weight)\n",
    "    \n",
    "    return G\n",
    "def simple_performance_comparison():\n",
    "    graph_sizes = [10, 20, 50, 100, 200]\n",
    "    \n",
    "    print(\"Prim's algorithm\")\n",
    "    print(\"Vertices|First algorithm time |Second algorithm time | Speedup\")\n",
    "    \n",
    "    for size in graph_sizes:\n",
    "\n",
    "        G = generate_random_graph(size)\n",
    "        \n",
    "        start_time = time.time()\n",
    "        mst_slow = slowPrim(G, G.vertices[0])\n",
    "        time_slow = time.time() - start_time\n",
    "        \n",
    "        start_time = time.time()\n",
    "        mst_fast = prim(G, G.vertices[0])\n",
    "        time_fast = time.time() - start_time\n",
    "        \n",
    "        # Computational speedup\n",
    "        speedup = time_slow / time_fast if time_fast > 0 else float('inf')\n",
    "        \n",
    "        print(f\"{size:6} | {time_slow:15.6f} | {time_fast:15.6f} | {speedup:8.2f}x\")\n",
    "\n",
    "simple_performance_comparison()"
   ]
  },
  {
   "cell_type": "markdown",
   "id": "cc0f5215",
   "metadata": {},
   "source": [
    "***"
   ]
  },
  {
   "cell_type": "markdown",
   "id": "968534a5",
   "metadata": {},
   "source": [
    "# Task 4"
   ]
  },
  {
   "cell_type": "code",
   "execution_count": 23,
   "id": "25f2b5d0",
   "metadata": {},
   "outputs": [],
   "source": [
    "def greedy_coin_change(coins, amount):\n",
    "    coins.sort(reverse=True)  # Sort from largest to smallest\n",
    "    result = []\n",
    "    for coin in coins:\n",
    "        while amount >= coin:\n",
    "            result.append(coin)\n",
    "            amount -= coin\n",
    "    return result if amount == 0 else -1\n",
    "\n",
    "def dp_coin_change(coins, amount):\n",
    "    dp = [float(\"inf\")] * (amount + 1)\n",
    "    dp[0] = 0\n",
    "    choice = [[] for _ in range(amount+1)]\n",
    "    \n",
    "    for i in range(1, amount+1):\n",
    "        for c in coins:\n",
    "            if i - c >= 0 and dp[i-c] + 1 < dp[i]:\n",
    "                dp[i] = dp[i-c] + 1\n",
    "                choice[i] = choice[i-c] + [c]\n",
    "    return choice[amount] if dp[amount] != [] else -1\n"
   ]
  },
  {
   "cell_type": "code",
   "execution_count": 87,
   "id": "857d0b82",
   "metadata": {},
   "outputs": [
    {
     "name": "stdout",
     "output_type": "stream",
     "text": [
      "\n",
      "Amount 30:\n",
      "Greedy: [25, 5]\n",
      "DP    : [5, 25]\n",
      "\n",
      "Amount 37:\n",
      "Greedy: [25, 10, 1, 1]\n",
      "DP    : [1, 1, 10, 25]\n",
      "\n",
      "Amount 43:\n",
      "Greedy: [25, 10, 5, 1, 1, 1]\n",
      "DP    : [1, 1, 1, 5, 10, 25]\n"
     ]
    }
   ],
   "source": [
    "coins = [1,5,10,25]\n",
    "amounts = [30, 37, 43]\n",
    "\n",
    "for amt in amounts:\n",
    "    print(f\"\\nAmount {amt}:\")\n",
    "    print(\"Greedy:\", greedy_coin_change(coins, amt))\n",
    "    print(\"DP    :\", dp_coin_change(coins, amt))\n"
   ]
  },
  {
   "cell_type": "code",
   "execution_count": null,
   "id": "a6d8a7c5",
   "metadata": {},
   "outputs": [],
   "source": []
  }
 ],
 "metadata": {
  "kernelspec": {
   "display_name": "Python 3",
   "language": "python",
   "name": "python3"
  },
  "language_info": {
   "codemirror_mode": {
    "name": "ipython",
    "version": 3
   },
   "file_extension": ".py",
   "mimetype": "text/x-python",
   "name": "python",
   "nbconvert_exporter": "python",
   "pygments_lexer": "ipython3",
   "version": "3.8.8"
  }
 },
 "nbformat": 4,
 "nbformat_minor": 5
}
